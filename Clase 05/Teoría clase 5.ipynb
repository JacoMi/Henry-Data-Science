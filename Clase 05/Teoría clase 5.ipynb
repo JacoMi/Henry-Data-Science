{
 "cells": [
  {
   "cell_type": "markdown",
   "metadata": {},
   "source": [
    "### Constructor __init__\n",
    "Es un método especial que instancia objetos de una clase y que se invoca automáticamente.\n",
    "\n",
    "En él pueden inicializarse los atributos de un objeto.\n",
    "\n",
    "No es obligatorio crearlo ni inicializar todos los atributos."
   ]
  },
  {
   "cell_type": "code",
   "execution_count": 20,
   "metadata": {},
   "outputs": [],
   "source": [
    "class Ejemplo:\n",
    "    def __init__(self, parametro1, parametro2):\n",
    "        self.atributo1 = parametro1\n",
    "        self.atributo2 = parametro2"
   ]
  },
  {
   "cell_type": "markdown",
   "metadata": {},
   "source": [
    "### ¿Qué pasa con el self? ¿Porqué está como primer parámetro? ¿Para qué sirve?\n",
    "El método self, se encuentra como primer parámetro, y su función es hacer referencia al objeto que se está creando.\n",
    "En este caso, hace referencia al Ejemplo, que es lo que estamos creando.\n",
    "\n",
    "En la siguiente celda, vemos que cuando usamos la clase Ejemplo, no es necesario llamar a la funcion __init__ porque se esta ejecutando sóla. ¿Pero... cómo?, bueno, es una palabra reservada de Python que justamente es para inicializar un objeto, sin tener que llamarlo.\n",
    "\n",
    "Veamos que cuando llamamos a la clase, no hace falta poner el self, porque se ejecuta de manera implicita en la función"
   ]
  },
  {
   "cell_type": "code",
   "execution_count": 24,
   "metadata": {},
   "outputs": [
    {
     "name": "stdout",
     "output_type": "stream",
     "text": [
      "un valor\n",
      "otro valor\n",
      "<class '__main__.Ejemplo'>\n",
      "<__main__.Ejemplo object at 0x00000255AB8CCFD0>\n"
     ]
    }
   ],
   "source": [
    "un_ejemplo = Ejemplo('un valor', 'otro valor')\n",
    "print(un_ejemplo.atributo1)\n",
    "print(un_ejemplo.atributo2)\n",
    "print(Ejemplo)\n",
    "print(un_ejemplo)"
   ]
  },
  {
   "cell_type": "markdown",
   "metadata": {},
   "source": [
    "`No necesariamente el constructor tiene que tener todos los atributos inicializados a través de parámetros. Puede tenerlos asignados directamente como un valor`"
   ]
  },
  {
   "cell_type": "code",
   "execution_count": 25,
   "metadata": {},
   "outputs": [],
   "source": [
    "class Ejemplo():\n",
    "    def __init__(self, parametro1):\n",
    "        self.atributo1 = parametro1\n",
    "        self.atributo2 = 100"
   ]
  },
  {
   "cell_type": "code",
   "execution_count": 27,
   "metadata": {},
   "outputs": [
    {
     "name": "stdout",
     "output_type": "stream",
     "text": [
      "<__main__.Ejemplo object at 0x00000255AB8CCDF0>\n",
      "Otro valor\n",
      "100\n"
     ]
    }
   ],
   "source": [
    "otro_ejemplo = Ejemplo('Otro valor')\n",
    "print(otro_ejemplo)\n",
    "print(otro_ejemplo.atributo1)\n",
    "print(otro_ejemplo.atributo2)"
   ]
  },
  {
   "cell_type": "markdown",
   "metadata": {},
   "source": [
    "### Vamos a hacer un ejemplo un poco más completo.\n",
    "Crearemos la clase Gato, que va a contener:\n",
    "\n",
    "[Atributos]----------------------[Métodos]\n",
    "* \"Nombre\"              ------>  _ _ ___init___ _ _\n",
    "* \"Edad\"                ------> verEtapaDeVida()\n",
    "* \"Alimentos favoritos\" ------> esAlimentoFavorito()"
   ]
  },
  {
   "cell_type": "code",
   "execution_count": 28,
   "metadata": {},
   "outputs": [],
   "source": [
    "class Gato:\n",
    "    especie = 'mamífero'\n",
    "    \n",
    "    def __init__(self, nombre, edad):\n",
    "        self.nombre = nombre\n",
    "        self.edad = edad\n",
    "        self.alimentos = []\n",
    "\n",
    "    def verEtapaDeVida(self):\n",
    "        if self.edad > 1:\n",
    "            return(self.nombre, 'es adulto')\n",
    "        else:\n",
    "            return(self.nombre, 'es cachorro')\n",
    "    \n",
    "    def esAlimentoFavorito(self, alimento):\n",
    "        return alimento in self.alimentos\n",
    "        "
   ]
  },
  {
   "cell_type": "code",
   "execution_count": 36,
   "metadata": {},
   "outputs": [
    {
     "name": "stdout",
     "output_type": "stream",
     "text": [
      "[]\n",
      "Pikachu\n",
      "17\n",
      "Pikachu es adulto\n",
      "None\n"
     ]
    }
   ],
   "source": [
    "mi_gato = Gato('Pikachu', 17)\n",
    "print(mi_gato.alimentos)\n",
    "print(mi_gato.nombre)\n",
    "print(mi_gato.edad)\n",
    "print(mi_gato.verEtapaDeVida())"
   ]
  },
  {
   "cell_type": "code",
   "execution_count": 13,
   "metadata": {},
   "outputs": [],
   "source": [
    "###-----------------------------\n",
    "###Ejemplo: herencia de clases\n",
    "###-----------------------------\n",
    "\n",
    "class Empleado:\n",
    "\n",
    "    def __init__(self, nombre, edad, legajo, sueldo):\n",
    "        self.nombre=nombre\n",
    "        self.edad=edad\n",
    "        self.legajo=legajo\n",
    "        self.sueldoBase=sueldo\n",
    "    \n",
    "    def calcularSueldo(self, descuentos, bonos):\n",
    "        return self.sueldoBase-descuentos+bonos\n"
   ]
  },
  {
   "cell_type": "code",
   "execution_count": 14,
   "metadata": {},
   "outputs": [
    {
     "name": "stdout",
     "output_type": "stream",
     "text": [
      "Francisco Alfredo Sabena\n",
      "28\n",
      "252\n",
      "100\n"
     ]
    }
   ],
   "source": [
    "empleado = Empleado('Francisco Alfredo Sabena', '28', '252', 100)\n",
    "print(empleado.nombre)\n",
    "print(empleado.edad)\n",
    "print(empleado.legajo)\n",
    "print(empleado.sueldoBase)"
   ]
  },
  {
   "cell_type": "markdown",
   "metadata": {},
   "source": [
    "### Implementación de una pila en Python (LIFO) ---> LAST IN FIRST OUT"
   ]
  },
  {
   "cell_type": "code",
   "execution_count": 2,
   "metadata": {},
   "outputs": [],
   "source": [
    "class Estructura_Pila(object):\n",
    "    def __init__(self):\n",
    "        self.__list = []\n",
    "    # Agregar un elemento a la Pila\n",
    "    def push(self, item):\n",
    "        self.__list.append(item)\n",
    "        return 'Ha ingresado el elemento: ',item\n",
    "    # Quitar un elemento de la Pila\n",
    "    def pop(self):\n",
    "        return 'Se eliminó el elemento: ',self.__list.pop()\n",
    "    # Obtener el elemento superior de la Pila\n",
    "    def peek(self):\n",
    "        if self.__list:\n",
    "            return 'El ultimo elemento de la lista es: ', self.__list[-1]\n",
    "        else:\n",
    "            return 'No hay nada en la lista'\n",
    "    # Determinar si la Pila está vacía\n",
    "    def is_empty(self):\n",
    "        if self.__list == []:\n",
    "            return 'La lista está vacía'\n",
    "        else:\n",
    "            return 'La lista tiene los siguientes elementos', self.__list\n",
    "    # Devuelve el número de elementos de la lista:\n",
    "    def size(self):\n",
    "        longitud = len(self.__list)\n",
    "        return {f'La lista contiene: {longitud} elementos'}\n",
    "\n",
    "#if __name__ == '__main__':\n",
    "#    s = Estructura_Pila()\n",
    "#    s.push()"
   ]
  },
  {
   "cell_type": "markdown",
   "metadata": {},
   "source": [
    "[¿Porqué usamos __ __name__ __ __==__ __ __main__ __?](https://stackabuse.com/what-does-if-__name__-__main__-do-in-python/)\n",
    "\n",
    "[Tutorial de Python: if __ __name__ __ __==__ __ __main__ __ by Corey Schafer](https://www.youtube.com/watch?v=sugvnHA7ElY)"
   ]
  },
  {
   "cell_type": "code",
   "execution_count": 6,
   "metadata": {},
   "outputs": [
    {
     "name": "stdout",
     "output_type": "stream",
     "text": [
      "La lista está vacía\n",
      "{'La lista contiene: 0 elementos'}\n"
     ]
    }
   ],
   "source": [
    "s = Estructura_Pila()\n",
    "print(s.push(1))\n",
    "print(s.push(\"Ejemplo de Belu\"))\n",
    "print(s.push(2256))\n",
    "print(s.push('Un numero'))\n",
    "print(s.pop())\n",
    "print(s.peek())\n",
    "print(s.is_empty())\n",
    "print(s.size())"
   ]
  },
  {
   "cell_type": "markdown",
   "metadata": {},
   "source": [
    "### Implementación de una cola en Python (FIFO) FIRST IN FIRST OUT"
   ]
  },
  {
   "cell_type": "code",
   "execution_count": 11,
   "metadata": {},
   "outputs": [],
   "source": [
    "class Estructura_Cola(object):\n",
    "    # Creamos lista de manera automática, cada vez que llamamos a la clase\n",
    "    def __init__(self):\n",
    "        self.__list = []\n",
    "    # Agregamos un elemento a la cola\n",
    "    def enqueue(self, item):\n",
    "        self.__list.append(item)\n",
    "        return {f'Se agregó a la cola el siguiente elemento: {item}'}\n",
    "    # Quitar un elemento de la cola; la diferencia con el código de Pilas es que en el pop, le estamos diciendo que \n",
    "    # borre el último elemento de las lista, al no pasarle ningún número en el paréntesis, pop().\n",
    "    # Mientras que en las colas ---> pop(0), se le pasa pop con el índice en 0.\n",
    "    def dequeue(self):\n",
    "        popeado = self.__list.pop(0)\n",
    "        return {f'Se eliminó el elemento: {popeado}'}\n",
    "    # Verificar si la cola está vacía\n",
    "    def is_empty(self):\n",
    "        if self.__list == []:\n",
    "            return 'No hay nada en la cola'\n",
    "        else:\n",
    "            return {f'Tenemos en cola los siguientes elementos: {self.__list}'} \n",
    "    # Devolver la cantidad de elementos que tiene la cola\n",
    "    def size(self):\n",
    "        longitud_de_cola = len(self.__list)\n",
    "        return {f'Cantidad de elementos en cola: {longitud_de_cola}'}\n"
   ]
  },
  {
   "cell_type": "code",
   "execution_count": 12,
   "metadata": {},
   "outputs": [
    {
     "name": "stdout",
     "output_type": "stream",
     "text": [
      "{'Se agregó a la cola el siguiente elemento: Primer elemento en llegar'}\n",
      "{'Se agregó a la cola el siguiente elemento: Segundo elemento en espera'}\n",
      "{'Se agregó a la cola el siguiente elemento: Tercer elemento'}\n",
      "{'Se agregó a la cola el siguiente elemento: Alfre 4 en llegar'}\n",
      "{'Se eliminó el elemento: Primer elemento en llegar'}\n",
      "{\"Tenemos en cola los siguientes elementos: ['Segundo elemento en espera', 'Tercer elemento', 'Alfre 4 en llegar']\"}\n",
      "{'Cantidad de elementos en cola: 3'}\n"
     ]
    }
   ],
   "source": [
    "cola = Estructura_Cola()\n",
    "print(cola.enqueue(\"Primer elemento en llegar\"))\n",
    "print(cola.enqueue(\"Segundo elemento en espera\"))\n",
    "print(cola.enqueue(\"Tercer elemento\"))\n",
    "print(cola.enqueue(\"Alfre 4 en llegar\"))\n",
    "print(cola.dequeue())\n",
    "print(cola.is_empty())\n",
    "print(cola.size())"
   ]
  },
  {
   "cell_type": "code",
   "execution_count": null,
   "metadata": {},
   "outputs": [],
   "source": []
  }
 ],
 "metadata": {
  "kernelspec": {
   "display_name": "Python 3.10.4 64-bit",
   "language": "python",
   "name": "python3"
  },
  "language_info": {
   "codemirror_mode": {
    "name": "ipython",
    "version": 3
   },
   "file_extension": ".py",
   "mimetype": "text/x-python",
   "name": "python",
   "nbconvert_exporter": "python",
   "pygments_lexer": "ipython3",
   "version": "3.10.4"
  },
  "orig_nbformat": 4,
  "vscode": {
   "interpreter": {
    "hash": "e6104bf604ca1a37923b4f279a3bc03307071c215727ed52dcf746e90ba65021"
   }
  }
 },
 "nbformat": 4,
 "nbformat_minor": 2
}
