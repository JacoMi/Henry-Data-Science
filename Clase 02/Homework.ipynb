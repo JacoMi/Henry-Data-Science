{
 "cells": [
  {
   "cell_type": "markdown",
   "metadata": {},
   "source": [
    "# Práctica Clase 2"
   ]
  },
  {
   "cell_type": "markdown",
   "metadata": {},
   "source": [
    "1) Abrir el archivo \"Emisiones_CO2.csv\" y cargar sus datos en un diccionario."
   ]
  },
  {
   "cell_type": "code",
   "execution_count": 18,
   "metadata": {},
   "outputs": [],
   "source": [
    "import os\n",
    "archivo = open('Emisiones_CO2.csv', 'r')"
   ]
  },
  {
   "cell_type": "code",
   "execution_count": 19,
   "metadata": {},
   "outputs": [],
   "source": [
    "dicc_emisiones = {  'cod_pais' : [],\n",
    "                    'nom_pais' : [],\n",
    "                    'region' : [],\n",
    "                    'anio' : [],\n",
    "                    'co2' : [],\n",
    "                    'co2_percapita' : []}"
   ]
  },
  {
   "cell_type": "code",
   "execution_count": 19,
   "metadata": {},
   "outputs": [
    {
     "name": "stdout",
     "output_type": "stream",
     "text": [
      "hay 6 cantidad de variables\n",
      "0             NaN\n",
      "1             NaN\n",
      "2             NaN\n",
      "3             NaN\n",
      "4             NaN\n",
      "           ...   \n",
      "11122    9.732,22\n",
      "11123    7.682,37\n",
      "11124    8.239,75\n",
      "11125    9.028,15\n",
      "11126    9.860,56\n",
      "Name: CO2 (kt), Length: 11127, dtype: object\n"
     ]
    }
   ],
   "source": [
    "import pandas as pd\n",
    "\n",
    "df = pd.read_csv(\"Emisiones_CO2.csv\", delimiter=\"|\", encoding='latin-1')\n",
    "\n",
    "dicc_emisiones = {  'cod_pais' : [],\n",
    "                    'nom_pais' : [],\n",
    "                    'region' : [],\n",
    "                    'anio' : [],\n",
    "                    'co2' : [],\n",
    "                    'co2_percapita' : []}\n",
    "\n",
    "dicc_emisiones['cod_pais'] = df['Código de país']\n",
    "dicc_emisiones['nom_pais'] = df['Nombre del país']\n",
    "dicc_emisiones['region'] = df['Región']\n",
    "dicc_emisiones['anio'] = df['Año']\n",
    "dicc_emisiones['co2'] = df ['CO2 (kt)']\n",
    "dicc_emisiones['co2_pecapita'] = df['CO2 per cápita (toneladas métricas)']\n",
    "\n",
    "\n",
    "\n",
    "cant_variables = 0\n",
    "for i in df:\n",
    "    cant_variables += 1\n",
    "print('hay {} cantidad de variables'.format(cant_variables))\n",
    "\n",
    "print(dicc_emisiones.get('co2'))\n",
    "\n",
    "\n"
   ]
  },
  {
   "cell_type": "markdown",
   "metadata": {},
   "source": [
    "2) a) ¿Cuántas variables hay? <br>\n",
    "b) ¿Qué tipos de datos usar para cada una? <br>\n",
    "c) ¿Qué tipo de variables son? <br>\n",
    "d) ¿Hay valores faltantes? <br>\n",
    "e) ¿Cuál es el total de emisiones de CO2 para 'América Latina y Caribe' en el año 2010?"
   ]
  },
  {
   "cell_type": "code",
   "execution_count": 16,
   "metadata": {},
   "outputs": [
    {
     "name": "stdout",
     "output_type": "stream",
     "text": [
      "2095\n",
      "0\n",
      "0\n",
      "0\n",
      "0\n",
      "2098\n",
      "2095\n",
      "2098\n"
     ]
    },
    {
     "ename": "TypeError",
     "evalue": "unsupported operand type(s) for +: 'NoneType' and 'NoneType'",
     "output_type": "error",
     "traceback": [
      "\u001b[1;31m---------------------------------------------------------------------------\u001b[0m",
      "\u001b[1;31mTypeError\u001b[0m                                 Traceback (most recent call last)",
      "\u001b[1;32mc:\\Users\\usuario\\Desktop\\Henry\\Clase 02\\Homework.ipynb Celda 7\u001b[0m in \u001b[0;36m<cell line: 33>\u001b[1;34m()\u001b[0m\n\u001b[0;32m     <a href='vscode-notebook-cell:/c%3A/Users/usuario/Desktop/Henry/Clase%2002/Homework.ipynb#W6sZmlsZQ%3D%3D?line=29'>30</a>\u001b[0m valoresfaltantes (t)\n\u001b[0;32m     <a href='vscode-notebook-cell:/c%3A/Users/usuario/Desktop/Henry/Clase%2002/Homework.ipynb#W6sZmlsZQ%3D%3D?line=31'>32</a>\u001b[0m faltantes \u001b[39m=\u001b[39m \u001b[39m0\u001b[39m\n\u001b[1;32m---> <a href='vscode-notebook-cell:/c%3A/Users/usuario/Desktop/Henry/Clase%2002/Homework.ipynb#W6sZmlsZQ%3D%3D?line=32'>33</a>\u001b[0m faltantes \u001b[39m=\u001b[39m valoresfaltantes(x) \u001b[39m+\u001b[39;49m valoresfaltantes(t)\n",
      "\u001b[1;31mTypeError\u001b[0m: unsupported operand type(s) for +: 'NoneType' and 'NoneType'"
     ]
    }
   ],
   "source": [
    "#A) 6 \n",
    "#B) Cod país = Cualitativo categórico\n",
    "#    Nomb país = Cualitativo categórico\n",
    "# region = Cualitativo categórico\n",
    "# año = cuantitativo ordinal\n",
    "# co2(kt) = cuantitativo continuo \n",
    "# co2 per capita = cuantitativo continuo\n",
    "\n",
    "\n",
    "def valoresfaltantes(column):\n",
    "    valores_faltantes = 0 \n",
    "    for i in column:\n",
    "      \n",
    "        if type(i) == float:\n",
    "            valores_faltantes += 1\n",
    "    print(valores_faltantes)\n",
    "\n",
    "x= df['CO2 (kt)']\n",
    "y = df['Código de país']\n",
    "s = df['Nombre del país']\n",
    "q = df['Región']\n",
    "r= df['Año']\n",
    "t = df['CO2 per cápita (toneladas métricas)']\n",
    "\n",
    "valoresfaltantes (x)\n",
    "valoresfaltantes (y)\n",
    "valoresfaltantes (s)\n",
    "valoresfaltantes (q)\n",
    "valoresfaltantes (r)\n",
    "valoresfaltantes (t)\n",
    "\n",
    "\n",
    "\n",
    "\n",
    "\n"
   ]
  }
 ],
 "metadata": {
  "kernelspec": {
   "display_name": "Python 3.10.4 64-bit",
   "language": "python",
   "name": "python3"
  },
  "language_info": {
   "codemirror_mode": {
    "name": "ipython",
    "version": 3
   },
   "file_extension": ".py",
   "mimetype": "text/x-python",
   "name": "python",
   "nbconvert_exporter": "python",
   "pygments_lexer": "ipython3",
   "version": "3.10.4"
  },
  "orig_nbformat": 4,
  "vscode": {
   "interpreter": {
    "hash": "e6104bf604ca1a37923b4f279a3bc03307071c215727ed52dcf746e90ba65021"
   }
  }
 },
 "nbformat": 4,
 "nbformat_minor": 2
}
