{
 "cells": [
  {
   "cell_type": "markdown",
   "metadata": {},
   "source": [
    "# Práctica Clase 2"
   ]
  },
  {
   "cell_type": "markdown",
   "metadata": {},
   "source": [
    "1) Abrir el archivo \"Emisiones_CO2.csv\" y cargar sus datos en un diccionario."
   ]
  },
  {
   "cell_type": "code",
   "execution_count": 54,
   "metadata": {},
   "outputs": [],
   "source": [
    "import os\n",
    "import pandas as pd\n",
    "archivo = open('Emisiones_CO2.csv', 'r')"
   ]
  },
  {
   "cell_type": "code",
   "execution_count": 55,
   "metadata": {},
   "outputs": [],
   "source": [
    "dicc_emisiones = {  'cod_pais' : [],\n",
    "                    'nom_pais' : [],\n",
    "                    'region' : [],\n",
    "                    'anio' : [],\n",
    "                    'co2' : [],\n",
    "                    'co2_percapita' : []}"
   ]
  },
  {
   "cell_type": "markdown",
   "metadata": {},
   "source": [
    "2) a) ¿Cuántas variables hay? <br>\n",
    "b) ¿Qué tipos de datos usar para cada una? <br>\n",
    "c) ¿Qué tipo de variables son? <br>\n",
    "d) ¿Hay valores faltantes? <br>\n",
    "e) ¿Cuál es el total de emisiones de CO2 para 'América Latina y Caribe' en el año 2010?"
   ]
  },
  {
   "cell_type": "code",
   "execution_count": null,
   "metadata": {},
   "outputs": [],
   "source": [
    "import pandas as pd\n",
    "\n",
    "###############################################################################################################################################################################################\n",
    "# P1 --- CARGAR DATOS AL DICCIONARIO ---\n",
    "###############################################################################################################################################################################################\n",
    "\n",
    "###### Método para leer csv y hacerlo un data frame en pandas ######\n",
    "\n",
    "df = pd.read_csv(\"Emisiones_CO2.csv\", delimiter=\"|\", encoding='latin-1', decimal=',', thousands='.') \n",
    "\n",
    "###### Encoding, decimal y thousands, se usa para que el pandas pueda leer el csv, debido a que este no esta en el formato utf-8 ######\n",
    "\n",
    "dicc_emisiones = {  'cod_pais' : [],\n",
    "                    'nom_pais' : [],\n",
    "                    'region' : [],\n",
    "                    'anio' : [],\n",
    "                    'co2' : [],\n",
    "                    'co2_percapita' : []}\n",
    "\n",
    "##### Con el [] encapsulo la columna que quiero agregar #####\n",
    "\n",
    "###print(df)\n",
    "\n",
    "dicc_emisiones['cod_pais'] = df['Código de país']\n",
    "dicc_emisiones['nom_pais'] = df['Nombre del país']\n",
    "dicc_emisiones['region'] = df['Región']\n",
    "dicc_emisiones['anio'] = df['Año']\n",
    "dicc_emisiones['co2'] = df['CO2 (kt)']\n",
    "dicc_emisiones['co2_pecapita'] = df['CO2 per cápita (toneladas métricas)']\n",
    "\n",
    "#print(dicc_emisiones['co2_pecapita'])\n",
    "\n",
    "###############################################################################################################################################################################################\n",
    "# P2A --- CANTIDAD DE VARIABLES EN EL CSV ---\n",
    "###############################################################################################################################################################################################\n",
    "\n",
    "cant_variables = 0\n",
    "\n",
    "###### Bucle para contar la contidad de encabezados en el csv ######\n",
    "\n",
    "for i in df:\n",
    "    cant_variables += 1\n",
    "\n",
    "print('La cantidad de variables que hay es de {}'.format(cant_variables))"
   ]
  },
  {
   "cell_type": "code",
   "execution_count": 57,
   "metadata": {},
   "outputs": [],
   "source": [
    "###############################################################################################################################################################################################\n",
    "# P2B --- QUE TIPO DE DATOS USAR PARA CADA UNA ---\n",
    "###############################################################################################################################################################################################\n",
    "\n",
    "## CODIGO DE PAIS -----> CUALITATIVO CATEGÓRICO ##\n",
    "\n",
    "## NOMBRE DEL PAIS -----> CUALITATIVO CATEGÓRICO ##\n",
    "\n",
    "## REGION -----> CUALITATIVO CATEGÓRICO ##\n",
    "\n",
    "## AÑO -----> CUANTITATIVO DISCRETO ##\n",
    "\n",
    "## CO2 (kt) ------> CUANTITATIVO CONTINUO ##\n",
    "\n",
    "## CO2 PER CAPITA ------> CUANTITATIVO CONTINUO ##"
   ]
  },
  {
   "cell_type": "code",
   "execution_count": null,
   "metadata": {},
   "outputs": [],
   "source": [
    "###############################################################################################################################################################################################\n",
    "# P2C --- TIPO DE VARIABLES ---\n",
    "###############################################################################################################################################################################################\n",
    "\n",
    "\n",
    "lista_de_datos_1 = (df.iloc[43,:])\n",
    "\n",
    "#print(lista_de_datos_1)\n",
    "\n",
    "for i in lista_de_datos_1:\n",
    "    print(type(i))"
   ]
  },
  {
   "cell_type": "code",
   "execution_count": null,
   "metadata": {},
   "outputs": [],
   "source": [
    "###############################################################################################################################################################################################\n",
    "# P2D --- CANTIDAD DE FALTANTES ---\n",
    "###############################################################################################################################################################################################\n",
    "\n",
    "###############################################################################################################################################################################################\n",
    "# METODO ISNULL PARA SABER LA CANTIADD DE VALORES NULOS EN UN DATA FRAME\n",
    "###############################################################################################################################################################################################\n",
    "\n",
    "a = df.isnull().sum()\n",
    "\n",
    "print(a)"
   ]
  },
  {
   "cell_type": "code",
   "execution_count": null,
   "metadata": {},
   "outputs": [],
   "source": [
    "###############################################################################################################################################################################################\n",
    "# P2E --- CANTIDAD DE EMISIONES DE CO2 EN AMERICA LATINA ---\n",
    "###############################################################################################################################################################################################\n",
    "\n",
    "###############################################################################################################################################################################################\n",
    "# Mascara para filtrar el data frame y aplicarle condicionales\n",
    "###############################################################################################################################################################################################\n",
    "\n",
    "mascara = (df['Año'] == 2010) & (df['Región']=='América Latina y Caribe')\n",
    "\n",
    "df_filtrado = df[mascara]\n",
    "\n",
    "###############################################################################################################################################################################################\n",
    "# Metodo sum para la sumatoria de valores aplicando los condicionales del df_filtrado\n",
    "###############################################################################################################################################################################################\n",
    "\n",
    "a = df_filtrado['CO2 (kt)'].sum()\n",
    "\n",
    "print('La cantidad de CO2 es de {}'.format(a))\n",
    "\n",
    "#df_emisiones[(df_emisiones['Año'] == 2010) & (df_emisiones['Nombre del país']=='Angola')].Emisiones_CO2.sum()"
   ]
  }
 ],
 "metadata": {
  "kernelspec": {
   "display_name": "Python 3.10.4 64-bit",
   "language": "python",
   "name": "python3"
  },
  "language_info": {
   "codemirror_mode": {
    "name": "ipython",
    "version": 3
   },
   "file_extension": ".py",
   "mimetype": "text/x-python",
   "name": "python",
   "nbconvert_exporter": "python",
   "pygments_lexer": "ipython3",
   "version": "3.10.4"
  },
  "orig_nbformat": 4,
  "vscode": {
   "interpreter": {
    "hash": "dbe9872e9fba6ff71ddf0002d612ce2df2aed87b1ee522405255ff2d6084adf4"
   }
  }
 },
 "nbformat": 4,
 "nbformat_minor": 2
}
