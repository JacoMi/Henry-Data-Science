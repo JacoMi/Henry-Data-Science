{
 "cells": [
  {
   "cell_type": "code",
   "execution_count": 5,
   "metadata": {},
   "outputs": [],
   "source": [
    "def NumeroBinario(numero):\n",
    "    if numero < 0:\n",
    "        print('Debe ingresar un numero mayot que cero')\n",
    "        return None\n",
    "    elif type(numero) != int:\n",
    "        print('Debe ingresar un numero entero')\n",
    "        return None\n",
    "    elif numero == 0:\n",
    "        return 0\n",
    "    else:\n",
    "\n",
    "        '''crear una lista vacia para ir guardando los valores binarios'''\n",
    "        lista_binaria= []\n",
    "        '''definimos el primer numero binario del cociente'''\n",
    "        modulo = numero % 2\n",
    "        lista_binaria.append(modulo)\n",
    "        '''defino una lista para los cocientes'''\n",
    "        lista_cocientes= []\n",
    "        cociente= numero // 2\n",
    "        lista_cocientes.append(cociente)\n",
    "\n",
    "        for i in lista_cocientes:\n",
    "            '''cuando el iterador i pasa por la lista y se encuenta con un 1, el bucle se frena y sale'''\n",
    "            if i == 1:\n",
    "                break\n",
    "            else:\n",
    "                nuevo_cociente = i // 2\n",
    "                lista_cocientes.append(nuevo_cociente)\n",
    "        \n",
    "        for i in lista_cocientes:\n",
    "            if i == 1:\n",
    "                lista_binaria.append(1)\n",
    "            else:\n",
    "                binario = i % 2\n",
    "                lista_binaria.append(binario)\n",
    "\n",
    "    print(lista_binaria[::-1])\n",
    "\n"
   ]
  },
  {
   "cell_type": "code",
   "execution_count": 6,
   "metadata": {},
   "outputs": [
    {
     "name": "stdout",
     "output_type": "stream",
     "text": [
      "[1, 1, 0, 0, 1]\n"
     ]
    }
   ],
   "source": [
    "NumeroBinario(25)"
   ]
  },
  {
   "cell_type": "code",
   "execution_count": 9,
   "metadata": {},
   "outputs": [],
   "source": [
    "'''Fraccion a binario'''\n",
    "def fraccion_a_binario(decimal):\n",
    "    if decimal >=1:\n",
    "        print('Debe ingresar un valor menor a uno')\n",
    "        return None\n",
    "    if type(decimal) != float:\n",
    "        print('Debe ingresar un valor flotante')\n",
    "        return None\n",
    "    if decimal == float (0.0):\n",
    "        return 0\n",
    "    if decimal < 0:\n",
    "        print('el valor no puede ser negativo')\n",
    "        return None\n",
    "    else:\n",
    "        binario = '0.'\n",
    "        lista_multiplicados=[]\n",
    "        valor = decimal * 2\n",
    "        lista_multiplicados.append(valor)\n",
    "        multiplo = 0\n",
    "        contador = 0\n",
    "        for i in lista_multiplicados:\n",
    "            contador +=1\n",
    "            if i == 1.0:\n",
    "                break\n",
    "            if  i > 1.0:\n",
    "                multiplo = (i - 1.0)*2\n",
    "                lista_multiplicados.append(multiplo)\n",
    "            else:\n",
    "                multiplo = i*2\n",
    "                lista_multiplicados.append(multiplo)\n",
    "\n",
    "    for i in lista_multiplicados:\n",
    "        if i >= 1.0:\n",
    "            binario += '1'\n",
    "        if i < 1.0:\n",
    "            binario += '0'\n",
    "    return(binario)\n",
    "    "
   ]
  },
  {
   "cell_type": "code",
   "execution_count": 11,
   "metadata": {},
   "outputs": [
    {
     "data": {
      "text/plain": [
       "'0.010101010101010101010101010101010101010101010101010101'"
      ]
     },
     "execution_count": 11,
     "metadata": {},
     "output_type": "execute_result"
    }
   ],
   "source": [
    "fraccion_a_binario(1/3)"
   ]
  }
 ],
 "metadata": {
  "kernelspec": {
   "display_name": "Python 3.10.4 64-bit",
   "language": "python",
   "name": "python3"
  },
  "language_info": {
   "codemirror_mode": {
    "name": "ipython",
    "version": 3
   },
   "file_extension": ".py",
   "mimetype": "text/x-python",
   "name": "python",
   "nbconvert_exporter": "python",
   "pygments_lexer": "ipython3",
   "version": "3.10.4"
  },
  "orig_nbformat": 4,
  "vscode": {
   "interpreter": {
    "hash": "e6104bf604ca1a37923b4f279a3bc03307071c215727ed52dcf746e90ba65021"
   }
  }
 },
 "nbformat": 4,
 "nbformat_minor": 2
}
